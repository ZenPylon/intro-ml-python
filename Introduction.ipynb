{
 "cells": [
  {
   "cell_type": "markdown",
   "metadata": {},
   "source": [
    "# My first Jupyter Notebook!\n",
    "\n",
    "Hooray!  Looking forward to learning some machine learning in Python."
   ]
  },
  {
   "cell_type": "code",
   "execution_count": 11,
   "metadata": {},
   "outputs": [
    {
     "name": "stdout",
     "output_type": "stream",
     "text": [
      "4\n",
      "[ 0.          0.12822827  0.25645654  0.38468481  0.51291309  0.64114136\n",
      "  0.76936963  0.8975979   1.02582617  1.15405444  1.28228272  1.41051099\n",
      "  1.53873926  1.66696753  1.7951958   1.92342407  2.05165235  2.17988062\n",
      "  2.30810889  2.43633716  2.56456543  2.6927937   2.82102197  2.94925025\n",
      "  3.07747852  3.20570679  3.33393506  3.46216333  3.5903916   3.71861988\n",
      "  3.84684815  3.97507642  4.10330469  4.23153296  4.35976123  4.48798951\n",
      "  4.61621778  4.74444605  4.87267432  5.00090259  5.12913086  5.25735913\n",
      "  5.38558741  5.51381568  5.64204395  5.77027222  5.89850049  6.02672876\n",
      "  6.15495704  6.28318531]\n",
      "[  0.00000000e+00   1.27877162e-01   2.53654584e-01   3.75267005e-01\n",
      "   4.90717552e-01   5.98110530e-01   6.95682551e-01   7.81831482e-01\n",
      "   8.55142763e-01   9.14412623e-01   9.58667853e-01   9.87181783e-01\n",
      "   9.99486216e-01   9.95379113e-01   9.74927912e-01   9.38468422e-01\n",
      "   8.86599306e-01   8.20172255e-01   7.40277997e-01   6.48228395e-01\n",
      "   5.45534901e-01   4.33883739e-01   3.15108218e-01   1.91158629e-01\n",
      "   6.40702200e-02  -6.40702200e-02  -1.91158629e-01  -3.15108218e-01\n",
      "  -4.33883739e-01  -5.45534901e-01  -6.48228395e-01  -7.40277997e-01\n",
      "  -8.20172255e-01  -8.86599306e-01  -9.38468422e-01  -9.74927912e-01\n",
      "  -9.95379113e-01  -9.99486216e-01  -9.87181783e-01  -9.58667853e-01\n",
      "  -9.14412623e-01  -8.55142763e-01  -7.81831482e-01  -6.95682551e-01\n",
      "  -5.98110530e-01  -4.90717552e-01  -3.75267005e-01  -2.53654584e-01\n",
      "  -1.27877162e-01  -2.44929360e-16]\n"
     ]
    },
    {
     "data": {
      "text/plain": [
       "[<matplotlib.lines.Line2D at 0x110acc0b8>]"
      ]
     },
     "execution_count": 11,
     "metadata": {},
     "output_type": "execute_result"
    }
   ],
   "source": [
    "import numpy as np\n",
    "import matplotlib.pyplot as plt\n",
    "\n",
    "x = np.linspace(0, 2 * np.pi)\n",
    "y = np.sin(x)\n",
    "plt.plot(x)"
   ]
  },
  {
   "cell_type": "code",
   "execution_count": null,
   "metadata": {
    "collapsed": true
   },
   "outputs": [],
   "source": []
  }
 ],
 "metadata": {
  "kernelspec": {
   "display_name": "Python 3",
   "language": "python",
   "name": "python3"
  },
  "language_info": {
   "codemirror_mode": {
    "name": "ipython",
    "version": 3
   },
   "file_extension": ".py",
   "mimetype": "text/x-python",
   "name": "python",
   "nbconvert_exporter": "python",
   "pygments_lexer": "ipython3",
   "version": "3.6.3"
  }
 },
 "nbformat": 4,
 "nbformat_minor": 2
}
